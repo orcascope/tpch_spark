{
 "cells": [
  {
   "cell_type": "code",
   "execution_count": 1,
   "id": "ae0f6333",
   "metadata": {},
   "outputs": [
    {
     "name": "stderr",
     "output_type": "stream",
     "text": [
      "/usr/local/lib/python3.9/dist-packages/pyspark/bin/load-spark-env.sh: line 68: ps: command not found\n",
      "Setting default log level to \"WARN\".\n",
      "To adjust logging level use sc.setLogLevel(newLevel). For SparkR, use setLogLevel(newLevel).\n"
     ]
    },
    {
     "name": "stdout",
     "output_type": "stream",
     "text": [
      "24/07/25 16:56:44 WARN NativeCodeLoader: Unable to load native-hadoop library for your platform... using builtin-java classes where applicable\n"
     ]
    },
    {
     "data": {
      "text/html": [
       "\n",
       "            <div>\n",
       "                <p><b>SparkSession - in-memory</b></p>\n",
       "                \n",
       "        <div>\n",
       "            <p><b>SparkContext</b></p>\n",
       "\n",
       "            <p><a href=\"http://b25e26be6962:4040\">Spark UI</a></p>\n",
       "\n",
       "            <dl>\n",
       "              <dt>Version</dt>\n",
       "                <dd><code>v3.3.2</code></dd>\n",
       "              <dt>Master</dt>\n",
       "                <dd><code>local[*]</code></dd>\n",
       "              <dt>AppName</dt>\n",
       "                <dd><code>MyDelta_App</code></dd>\n",
       "            </dl>\n",
       "        </div>\n",
       "        \n",
       "            </div>\n",
       "        "
      ],
      "text/plain": [
       "<pyspark.sql.session.SparkSession at 0x7ffab7b19310>"
      ]
     },
     "execution_count": 1,
     "metadata": {},
     "output_type": "execute_result"
    }
   ],
   "source": [
    "from pyspark.sql import SparkSession\n",
    "from pyspark.sql.functions import col, sum, max, avg, expr\n",
    "\n",
    "spark = (SparkSession.builder.appName(\"MyDelta_App\")\n",
    "    .config(\"spark.executor.memory\", \"512m\")\n",
    "    .config(\"spark.driver.memory\", \"1g\")\n",
    "    .config('spark.ui.port', '4040')\n",
    "    .getOrCreate()\n",
    "    )\n",
    "spark"
   ]
  },
  {
   "cell_type": "code",
   "execution_count": null,
   "id": "2e186170",
   "metadata": {},
   "outputs": [],
   "source": [
    "df = spark.read.format(\"json\").option(\"multiline\",\"true\").load(\"*.json\")"
   ]
  },
  {
   "cell_type": "code",
   "execution_count": 3,
   "id": "b1daa5bc",
   "metadata": {},
   "outputs": [],
   "source": [
    "def is_int(value):\n",
    "    try:\n",
    "        int(value)\n",
    "        return True\n",
    "    except ValueError:\n",
    "        return False\n",
    "new_col_names = ['q_'+col_name if is_int(col_name) else col_name for col_name in df.columns  ]\n",
    "\n",
    "for col_name in df.columns:\n",
    "    df = df.withColumnRenamed(col_name, \"q_\"+col_name if is_int(col_name) else col_name)\n",
    "\n",
    "# df\n",
    "array_columns = [col_name for col_name, data_type in df.dtypes if data_type.startswith(\"array\") ]"
   ]
  },
  {
   "cell_type": "code",
   "execution_count": 4,
   "id": "bc3032ad",
   "metadata": {},
   "outputs": [
    {
     "name": "stdout",
     "output_type": "stream",
     "text": [
      "24/07/25 16:57:10 WARN package: Truncated the string representation of a plan since it was too large. This behavior can be adjusted by setting 'spark.sql.debug.maxToStringFields'.\n"
     ]
    },
    {
     "name": "stderr",
     "output_type": "stream",
     "text": [
      "[Stage 1:>                                                          (0 + 1) / 1]\r"
     ]
    },
    {
     "name": "stdout",
     "output_type": "stream",
     "text": [
      "+---------+---------+------+------------+--------------------+------------------+\n",
      "|benchmark|data_path|engine|  query_path|              run_id|total_time_seconds|\n",
      "+---------+---------+------+------------+--------------------+------------------+\n",
      "|     tpch|tpch/data|duckdb|tpch/queries|        duck_4cpu_2G|1.8507003784179688|\n",
      "|     tpch|tpch/data|duckdb|tpch/queries|duck_1cpu_1g_0thr...| 9.805975914001465|\n",
      "|     tpch|tpch/data|duckdb|tpch/queries|        duck_2cpu_1G| 5.028869390487671|\n",
      "|     tpch|tpch/data|duckdb|tpch/queries|        duck_1cpu_1G|13.013150453567505|\n",
      "|     tpch|tpch/data| spark|tpch/queries|spark_1core_1exec...|114.83095479011536|\n",
      "|     tpch|tpch/data| spark|tpch/queries|spark_1core_1exec...|114.76612782478333|\n",
      "|     tpch|tpch/data| spark|tpch/queries|   2core_2exec_512mb| 79.38333773612976|\n",
      "+---------+---------+------+------------+--------------------+------------------+\n",
      "\n"
     ]
    },
    {
     "name": "stderr",
     "output_type": "stream",
     "text": [
      "                                                                                \r"
     ]
    }
   ],
   "source": [
    "from functools import reduce\n",
    "\n",
    "collect_all_cols =  reduce(lambda acc, c : acc + expr(f\"{c}[0]\"), array_columns, expr(\"0.0\"))\n",
    "df.withColumn(\"total_time_seconds\", collect_all_cols).select(\n",
    "    'benchmark',\n",
    "     'data_path',\n",
    "     'engine',\n",
    "     'query_path',\n",
    "     'run_id',\n",
    "     'total_time_seconds').show()"
   ]
  }
 ],
 "metadata": {
  "kernelspec": {
   "display_name": "Python 3 (ipykernel)",
   "language": "python",
   "name": "python3"
  },
  "language_info": {
   "codemirror_mode": {
    "name": "ipython",
    "version": 3
   },
   "file_extension": ".py",
   "mimetype": "text/x-python",
   "name": "python",
   "nbconvert_exporter": "python",
   "pygments_lexer": "ipython3",
   "version": "3.9.2"
  }
 },
 "nbformat": 4,
 "nbformat_minor": 5
}
